{
  "nbformat": 4,
  "nbformat_minor": 0,
  "metadata": {
    "colab": {
      "provenance": [],
      "include_colab_link": true
    },
    "kernelspec": {
      "name": "python3",
      "display_name": "Python 3"
    },
    "language_info": {
      "name": "python"
    }
  },
  "cells": [
    {
      "cell_type": "markdown",
      "metadata": {
        "id": "view-in-github",
        "colab_type": "text"
      },
      "source": [
        "<a href=\"https://colab.research.google.com/github/liviatech/Curso-Javascript/blob/main/WoMakersCode_Bootcamp_Back_End_Python_%26_Django.ipynb\" target=\"_parent\"><img src=\"https://colab.research.google.com/assets/colab-badge.svg\" alt=\"Open In Colab\"/></a>"
      ]
    },
    {
      "cell_type": "markdown",
      "source": [
        "DESAFIO 1\n",
        "\n",
        "Crie um programa que solicita ao usuário que insira três notas (valores de 0 a 10) e, em seguida, calcule e exiba a média dessas notas.\n",
        "\n",
        "Além disso, informe ao usuário se ele foi aprovado ou reprovado com base na média das notas, considerando a média mínima de aprovação como 6."
      ],
      "metadata": {
        "id": "sdBUCCdzeef3"
      }
    },
    {
      "cell_type": "code",
      "source": [
        "def obter_nota():\n",
        "    while True:\n",
        "        try:\n",
        "            nota = float(input(\"Digite uma nota (0 a 10): \"))\n",
        "            if 0 <= nota <= 10:\n",
        "                return nota\n",
        "            else:\n",
        "                print(\"A nota deve estar entre 0 e 10. Tente novamente.\")\n",
        "        except ValueError:\n",
        "            print(\"Entrada inválida. Por favor, digite um número.\")\n",
        "\n",
        "def calcular_media(notas):\n",
        "    return sum(notas) / len(notas)\n",
        "\n",
        "def verificar_aprovacao(media):\n",
        "    if media >= 6:\n",
        "        return \"Aprovado\"\n",
        "    else:\n",
        "        return \"Reprovado\"\n",
        "\n",
        "def main():\n",
        "    notas = []\n",
        "    for i in range(1, 4):\n",
        "        print(f\"Digite a nota {i}:\")\n",
        "        nota = obter_nota()\n",
        "        notas.append(nota)\n",
        "\n",
        "    media = calcular_media(notas)\n",
        "    resultado = verificar_aprovacao(media)\n",
        "\n",
        "    print(f\"\\nMédia das notas: {media:.2f}\")\n",
        "    print(f\"Resultado: {resultado}\")\n",
        "\n",
        "if __name__ == \"__main__\":\n",
        "    main()\n"
      ],
      "metadata": {
        "id": "j16D0tJ4evJ-",
        "colab": {
          "base_uri": "https://localhost:8080/"
        },
        "outputId": "5595dddf-0c64-4bdc-e065-d58e7ff713e8"
      },
      "execution_count": 13,
      "outputs": [
        {
          "output_type": "stream",
          "name": "stdout",
          "text": [
            "Digite a nota 1:\n",
            "Digite uma nota (0 a 10): 9\n",
            "Digite a nota 2:\n",
            "Digite uma nota (0 a 10): \n",
            "Entrada inválida. Por favor, digite um número.\n",
            "Digite uma nota (0 a 10): \n",
            "Entrada inválida. Por favor, digite um número.\n",
            "Digite uma nota (0 a 10): 1\n",
            "Digite a nota 3:\n",
            "Digite uma nota (0 a 10): 1\n",
            "\n",
            "Média das notas: 3.67\n",
            "Resultado: Reprovado\n"
          ]
        }
      ]
    },
    {
      "cell_type": "markdown",
      "source": [
        "DESAFIO 2\n",
        "\n",
        "Crie um programa que solicita ao usuário que insira um número inteiro e, em seguida, verifica se o número é par ou ímpar.\n",
        "\n",
        "O programa deve exibir uma mensagem indicando se o número é par ou ímpar."
      ],
      "metadata": {
        "id": "ClKDF5t4gEyu"
      }
    },
    {
      "cell_type": "code",
      "source": [
        "def verificar_par_ou_impar(numero):\n",
        "    if numero % 2 == 0:\n",
        "        return \"par\"\n",
        "    else:\n",
        "        return \"ímpar\"\n",
        "\n",
        "def main():\n",
        "    while True:\n",
        "        try:\n",
        "            numero = int(input(\"Digite um número inteiro: \"))\n",
        "            break\n",
        "        except ValueError:\n",
        "            print(\"Entrada inválida. Por favor, digite um número inteiro.\")\n",
        "\n",
        "    resultado = verificar_par_ou_impar(numero)\n",
        "    print(f\"O número {numero} é {resultado}.\")\n",
        "\n",
        "if __name__ == \"__main__\":\n",
        "    main()\n"
      ],
      "metadata": {
        "id": "GWkFk92kfuiO",
        "colab": {
          "base_uri": "https://localhost:8080/"
        },
        "outputId": "4028f082-e076-480a-bc9e-898d38d7826e"
      },
      "execution_count": 11,
      "outputs": [
        {
          "output_type": "stream",
          "name": "stdout",
          "text": [
            "Digite um número inteiro: 6\n",
            "O número 6 é par.\n"
          ]
        }
      ]
    },
    {
      "cell_type": "markdown",
      "source": [
        "DESAFIO 3\n",
        "\n",
        "Crie um programa que verifica se uma palavra fornecida pelo usuário é um palíndromo ou não.\n",
        "\n",
        "(Um palíndromo é uma palavra que é lida da mesma forma tanto da esquerda para a direita quanto da direita para a esquerda.)"
      ],
      "metadata": {
        "id": "MmsZIAj-e0NX"
      }
    },
    {
      "cell_type": "code",
      "source": [
        "def verificar_palindromo(palavra):\n",
        "    # Remover espaços em branco e converter para minúsculas para comparação correta\n",
        "    palavra = palavra.replace(\" \", \"\").lower()\n",
        "    # Verificar se a palavra é igual à sua versão invertida\n",
        "    return palavra == palavra[::-1]\n",
        "\n",
        "def main():\n",
        "    palavra = input(\"Digite uma palavra: \")\n",
        "    if verificar_palindromo(palavra):\n",
        "        print(f\"A palavra '{palavra}' é um palíndromo.\")\n",
        "    else:\n",
        "        print(f\"A palavra '{palavra}' não é um palíndromo.\")\n",
        "\n",
        "if __name__ == \"__main__\":\n",
        "    main()\n"
      ],
      "metadata": {
        "id": "PobFqQqafLNj",
        "colab": {
          "base_uri": "https://localhost:8080/"
        },
        "outputId": "c5fd7f36-1629-40ca-d925-247e93f59060"
      },
      "execution_count": 14,
      "outputs": [
        {
          "output_type": "stream",
          "name": "stdout",
          "text": [
            "Digite uma palavra: radar\n",
            "A palavra 'radar' é um palíndromo.\n"
          ]
        }
      ]
    },
    {
      "cell_type": "markdown",
      "source": [
        "DESAFIO 4\n",
        "\n",
        "Crie um programa que solicita ao usuário que insira um número inteiro positivo e, em seguida, calcula e exibe o fatorial desse número.\n",
        "\n",
        "(O fatorial de um número é o produto de todos os números inteiros positivos de 1 até o próprio número.)"
      ],
      "metadata": {
        "id": "9WPRqUfIgLQK"
      }
    },
    {
      "cell_type": "code",
      "source": [
        "def calcular_fatorial(n):\n",
        "    if n == 0 or n == 1:\n",
        "        return 1\n",
        "    fatorial = 1\n",
        "    for i in range(2, n + 1):\n",
        "        fatorial *= i\n",
        "    return fatorial\n",
        "\n",
        "def main():\n",
        "    while True:\n",
        "        try:\n",
        "            numero = int(input(\"Digite um número inteiro positivo: \"))\n",
        "            if numero < 0:\n",
        "                print(\"O número deve ser um inteiro positivo. Tente novamente.\")\n",
        "            else:\n",
        "                break\n",
        "        except ValueError:\n",
        "            print(\"Entrada inválida. Por favor, digite um número inteiro positivo.\")\n",
        "\n",
        "    fatorial = calcular_fatorial(numero)\n",
        "    print(f\"O fatorial de {numero} é {fatorial}.\")\n",
        "\n",
        "if __name__ == \"__main__\":\n",
        "    main()\n"
      ],
      "metadata": {
        "id": "B3VE36bRgJWu",
        "colab": {
          "base_uri": "https://localhost:8080/"
        },
        "outputId": "5f22e323-0d2e-45ce-f1c2-78e95ca5e5d7"
      },
      "execution_count": 7,
      "outputs": [
        {
          "output_type": "stream",
          "name": "stdout",
          "text": [
            "Digite um número inteiro positivo: 5\n",
            "O fatorial de 5 é 120.\n"
          ]
        }
      ]
    },
    {
      "cell_type": "markdown",
      "source": [
        "DESAFIO 5\n",
        "\n",
        "Crie um programa que permita ao usuário gerenciar suas tarefas diárias. O programa deve oferecer as seguintes funcionalidades:\n",
        "\n",
        "*   Adicionar uma nova tarefa;\n",
        "*   Visualizar todas as tarefas;\n",
        "*   Marcar uma tarefa como concluída;\n",
        "*   Remover uma tarefa;\n",
        "*   Sair do programa.\n",
        "\n",
        "(Você pode implementar essas funcionalidades usando listas para armazenar as tarefas e estruturas de controle como loops e condicionais para interagir com o usuário.)"
      ],
      "metadata": {
        "id": "dLmeFEi2fO9f"
      }
    },
    {
      "cell_type": "code",
      "source": [
        "def exibir_menu():\n",
        "    print(\"\\nGerenciador de Tarefas\")\n",
        "    print(\"======================\")\n",
        "    print(\"1. Adicionar uma nova tarefa\")\n",
        "    print(\"2. Visualizar todas as tarefas\")\n",
        "    print(\"3. Marcar uma tarefa como concluída\")\n",
        "    print(\"4. Remover uma tarefa\")\n",
        "    print(\"5. Sair\")\n",
        "    print(\"======================\")\n",
        "\n",
        "def adicionar_tarefa(tarefas):\n",
        "    tarefa = input(\"Digite a nova tarefa: \")\n",
        "    tarefas.append({'tarefa': tarefa, 'concluida': False})\n",
        "    print(\"Tarefa adicionada com sucesso!\")\n",
        "\n",
        "def visualizar_tarefas(tarefas):\n",
        "    if not tarefas:\n",
        "        print(\"Nenhuma tarefa para exibir.\")\n",
        "    else:\n",
        "        for idx, tarefa in enumerate(tarefas, 1):\n",
        "            status = \"Concluída\" if tarefa['concluida'] else \"Pendente\"\n",
        "            print(f\"{idx}. {tarefa['tarefa']} - {status}\")\n",
        "\n",
        "def marcar_tarefa_concluida(tarefas):\n",
        "    visualizar_tarefas(tarefas)\n",
        "    if not tarefas:\n",
        "        return\n",
        "    try:\n",
        "        numero = int(input(\"Digite o número da tarefa que deseja marcar como concluída: \"))\n",
        "        if 1 <= numero <= len(tarefas):\n",
        "            tarefas[numero - 1]['concluida'] = True\n",
        "            print(\"Tarefa marcada como concluída!\")\n",
        "        else:\n",
        "            print(\"Número de tarefa inválido.\")\n",
        "    except ValueError:\n",
        "        print(\"Entrada inválida, por favor digite um número.\")\n",
        "\n",
        "def remover_tarefa(tarefas):\n",
        "    visualizar_tarefas(tarefas)\n",
        "    if not tarefas:\n",
        "        return\n",
        "    try:\n",
        "        numero = int(input(\"Digite o número da tarefa que deseja remover: \"))\n",
        "        if 1 <= numero <= len(tarefas):\n",
        "            tarefas.pop(numero - 1)\n",
        "            print(\"Tarefa removida com sucesso!\")\n",
        "        else:\n",
        "            print(\"Número de tarefa inválido.\")\n",
        "    except ValueError:\n",
        "        print(\"Entrada inválida, por favor digite um número.\")\n",
        "\n",
        "def main():\n",
        "    tarefas = []\n",
        "    while True:\n",
        "        exibir_menu()\n",
        "        escolha = input(\"Escolha uma opção: \")\n",
        "        if escolha == '1':\n",
        "            adicionar_tarefa(tarefas)\n",
        "        elif escolha == '2':\n",
        "            visualizar_tarefas(tarefas)\n",
        "        elif escolha == '3':\n",
        "            marcar_tarefa_concluida(tarefas)\n",
        "        elif escolha == '4':\n",
        "            remover_tarefa(tarefas)\n",
        "        elif escolha == '5':\n",
        "            print(\"Saindo do programa...\")\n",
        "            break\n",
        "        else:\n",
        "            print(\"Opção inválida, por favor escolha uma opção válida.\")\n",
        "\n",
        "if __name__ == \"__main__\":\n",
        "    main()\n"
      ],
      "metadata": {
        "id": "8oExqSgagGzn",
        "colab": {
          "base_uri": "https://localhost:8080/"
        },
        "outputId": "8f050004-0fb1-4654-e0af-5e3d80877e55"
      },
      "execution_count": 15,
      "outputs": [
        {
          "output_type": "stream",
          "name": "stdout",
          "text": [
            "\n",
            "Gerenciador de Tarefas\n",
            "======================\n",
            "1. Adicionar uma nova tarefa\n",
            "2. Visualizar todas as tarefas\n",
            "3. Marcar uma tarefa como concluída\n",
            "4. Remover uma tarefa\n",
            "5. Sair\n",
            "======================\n",
            "Escolha uma opção: 1\n",
            "Digite a nova tarefa: estudar\n",
            "Tarefa adicionada com sucesso!\n",
            "\n",
            "Gerenciador de Tarefas\n",
            "======================\n",
            "1. Adicionar uma nova tarefa\n",
            "2. Visualizar todas as tarefas\n",
            "3. Marcar uma tarefa como concluída\n",
            "4. Remover uma tarefa\n",
            "5. Sair\n",
            "======================\n",
            "Escolha uma opção: 2\n",
            "1. estudar - Pendente\n",
            "\n",
            "Gerenciador de Tarefas\n",
            "======================\n",
            "1. Adicionar uma nova tarefa\n",
            "2. Visualizar todas as tarefas\n",
            "3. Marcar uma tarefa como concluída\n",
            "4. Remover uma tarefa\n",
            "5. Sair\n",
            "======================\n",
            "Escolha uma opção: 3\n",
            "1. estudar - Pendente\n",
            "Digite o número da tarefa que deseja marcar como concluída: 1\n",
            "Tarefa marcada como concluída!\n",
            "\n",
            "Gerenciador de Tarefas\n",
            "======================\n",
            "1. Adicionar uma nova tarefa\n",
            "2. Visualizar todas as tarefas\n",
            "3. Marcar uma tarefa como concluída\n",
            "4. Remover uma tarefa\n",
            "5. Sair\n",
            "======================\n",
            "Escolha uma opção: 4\n",
            "1. estudar - Concluída\n",
            "Digite o número da tarefa que deseja remover: 1\n",
            "Tarefa removida com sucesso!\n",
            "\n",
            "Gerenciador de Tarefas\n",
            "======================\n",
            "1. Adicionar uma nova tarefa\n",
            "2. Visualizar todas as tarefas\n",
            "3. Marcar uma tarefa como concluída\n",
            "4. Remover uma tarefa\n",
            "5. Sair\n",
            "======================\n",
            "Escolha uma opção: 5\n",
            "Saindo do programa...\n"
          ]
        }
      ]
    }
  ]
}